{
 "cells": [
  {
   "cell_type": "code",
   "execution_count": 5,
   "metadata": {},
   "outputs": [],
   "source": [
    "import sys\n",
    "import cv2\n",
    "import matplotlib.pyplot as plt\n",
    "import time"
   ]
  },
  {
   "cell_type": "code",
   "execution_count": 6,
   "metadata": {},
   "outputs": [
    {
     "name": "stdout",
     "output_type": "stream",
     "text": [
      "All cameras released.\n"
     ]
    }
   ],
   "source": [
    "import cv2\n",
    "import time\n",
    "\n",
    "camera_ids = ['/dev/camera0', '/dev/camera1', '/dev/camera2', '/dev/camera3']\n",
    "\n",
    "caps = [cv2.VideoCapture(id) for id in camera_ids]\n",
    "\n",
    "for cap in caps:\n",
    "    cap.set(cv2.CAP_PROP_FRAME_WIDTH, 320)  # ?? ???\n",
    "    cap.set(cv2.CAP_PROP_FRAME_HEIGHT, 240) # ?? ???\n",
    "    cap.set(cv2.CAP_PROP_FPS, 30)           # FPS ??\n",
    "\n",
    "try:\n",
    "    while True:\n",
    "        frames = []\n",
    "\n",
    "        # ? ????? ??? ??\n",
    "        for idx, cap in enumerate(caps):\n",
    "            ret, frame = cap.read()\n",
    "            if not ret:\n",
    "                print(f\"Failed to grab frame from camera {idx}\")\n",
    "                continue\n",
    "\n",
    "            # ??? ??\n",
    "            cv2.imshow(f\"Camera {idx}\", frame)\n",
    "            frames.append(frame)\n",
    "\n",
    "        # 'q' ?? ??? ??\n",
    "        if cv2.waitKey(1) & 0xFF == ord('q'):\n",
    "            break\n",
    "\n",
    "finally:\n",
    "    for cap in caps:\n",
    "        cap.release()\n",
    "    cv2.destroyAllWindows()\n",
    "    print(\"All cameras released.\")\n"
   ]
  },
  {
   "cell_type": "code",
   "execution_count": null,
   "metadata": {},
   "outputs": [],
   "source": []
  }
 ],
 "metadata": {
  "kernelspec": {
   "display_name": "Python 3",
   "language": "python",
   "name": "python3"
  },
  "language_info": {
   "codemirror_mode": {
    "name": "ipython",
    "version": 3
   },
   "file_extension": ".py",
   "mimetype": "text/x-python",
   "name": "python",
   "nbconvert_exporter": "python",
   "pygments_lexer": "ipython3",
   "version": "3.11.2"
  }
 },
 "nbformat": 4,
 "nbformat_minor": 2
}
