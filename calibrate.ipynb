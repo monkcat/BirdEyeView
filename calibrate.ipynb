{
 "cells": [
  {
   "cell_type": "code",
   "execution_count": 2,
   "id": "8ce2c844-540f-4262-8b3f-97ab2ce87493",
   "metadata": {},
   "outputs": [],
   "source": [
    "import cv2\n",
    "import os\n",
    "\n",
    "def capture_images_without_corners(camera_index, output_folder, max_images=30):\n",
    "    \"\"\"\n",
    "    USB ???? ???? ???? ?? (?? ?? ??)\n",
    "    :param camera_index: USB ??? ??? (?: /dev/video0 -> 0)\n",
    "    :param output_folder: ??? ???? ??? ??\n",
    "    :param max_images: ??? ??? ?? ??\n",
    "    \"\"\"\n",
    "    cap = cv2.VideoCapture(camera_index)\n",
    "    if not cap.isOpened():\n",
    "        print(f\"Cannot open camera with index {camera_index}\")\n",
    "        return\n",
    "\n",
    "    os.makedirs(output_folder, exist_ok=True)\n",
    "    count = 0\n",
    "\n",
    "    print(\"Press 'c' to capture an image, 'q' to quit.\")\n",
    "    while count < max_images:\n",
    "        ret, frame = cap.read()\n",
    "        if not ret:\n",
    "            print(\"Failed to grab frame\")\n",
    "            break\n",
    "\n",
    "        cv2.imshow(\"USB Camera\", frame)\n",
    "        key = cv2.waitKey(1)\n",
    "\n",
    "        if key == ord('c'):  # 'c' ?? ?? ??? ??\n",
    "            filepath = os.path.join(output_folder, f\"calib_{count}.jpg\")\n",
    "            cv2.imwrite(filepath, frame)\n",
    "            print(f\"Saved: {filepath}\")\n",
    "            count += 1\n",
    "        elif key == ord('q'):  # 'q' ?? ?? ??\n",
    "            break\n",
    "\n",
    "    cap.release()\n",
    "    cv2.destroyAllWindows()\n",
    "\n",
    "# ?? ??\n",
    "#capture_images_without_corners(camera_index='/dev/video0', output_folder=\"./calibration_images/camera0\", max_images=30)\n"
   ]
  },
  {
   "cell_type": "code",
   "execution_count": 21,
   "id": "94c8d3d4-a518-4049-b216-58ced17ecc8a",
   "metadata": {},
   "outputs": [
    {
     "name": "stdout",
     "output_type": "stream",
     "text": [
      "Corners detected in: ./calibration_images/camera3/calib_19.jpg\n",
      "Corners detected in: ./calibration_images/camera3/calib_20.jpg\n",
      "Corners detected in: ./calibration_images/camera3/calib_11.jpg\n",
      "Corners detected in: ./calibration_images/camera3/calib_10.jpg\n",
      "Corners detected in: ./calibration_images/camera3/calib_17.jpg\n",
      "Corners detected in: ./calibration_images/camera3/calib_6.jpg\n",
      "Corners detected in: ./calibration_images/camera3/calib_21.jpg\n",
      "Corners detected in: ./calibration_images/camera3/calib_23.jpg\n",
      "Corners detected in: ./calibration_images/camera3/calib_7.jpg\n",
      "Corners detected in: ./calibration_images/camera3/calib_8.jpg\n",
      "Corners detected in: ./calibration_images/camera3/calib_16.jpg\n",
      "Corners detected in: ./calibration_images/camera3/calib_28.jpg\n",
      "Corners detected in: ./calibration_images/camera3/calib_18.jpg\n",
      "Corners detected in: ./calibration_images/camera3/calib_15.jpg\n",
      "Corners detected in: ./calibration_images/camera3/calib_29.jpg\n",
      "Corners detected in: ./calibration_images/camera3/calib_25.jpg\n",
      "Corners detected in: ./calibration_images/camera3/calib_24.jpg\n",
      "Corners detected in: ./calibration_images/camera3/calib_2.jpg\n",
      "Corners detected in: ./calibration_images/camera3/calib_22.jpg\n",
      "Corners detected in: ./calibration_images/camera3/calib_0.jpg\n",
      "Corners detected in: ./calibration_images/camera3/calib_3.jpg\n",
      "Corners detected in: ./calibration_images/camera3/calib_4.jpg\n",
      "Corners detected in: ./calibration_images/camera3/calib_27.jpg\n",
      "Corners detected in: ./calibration_images/camera3/calib_14.jpg\n",
      "Corners detected in: ./calibration_images/camera3/calib_9.jpg\n",
      "Corners detected in: ./calibration_images/camera3/calib_5.jpg\n",
      "Corners detected in: ./calibration_images/camera3/calib_26.jpg\n",
      "Corners detected in: ./calibration_images/camera3/calib_13.jpg\n",
      "Corners detected in: ./calibration_images/camera3/calib_1.jpg\n",
      "Corners detected in: ./calibration_images/camera3/calib_12.jpg\n",
      "Number of object points: 30\n",
      "Number of image points: 30\n",
      "objpoints[0] shape: (48, 1, 3), dtype: float32\n",
      "imgpoints[0] shape: (48, 1, 2), dtype: float32\n",
      "Calibration RMS error: 0.19379772331493944\n",
      "Camera matrix (K):\n",
      "[[480.89391515   0.         322.73823826]\n",
      " [  0.         479.02134141 259.13628308]\n",
      " [  0.           0.           1.        ]]\n",
      "Distortion coefficients (D):\n",
      "[[-0.06128446]\n",
      " [-0.01588213]\n",
      " [ 0.00948948]\n",
      " [-0.01165613]]\n"
     ]
    }
   ],
   "source": [
    "import cv2\n",
    "import numpy as np\n",
    "import glob\n",
    "\n",
    "def fisheye_calibrate(images_folder, pattern_size=(8, 6), square_size=0.03):\n",
    "    # ?? ??? ??\n",
    "    objp = np.zeros((pattern_size[1]*pattern_size[0], 3), np.float32)\n",
    "    objp[:, :2] = np.mgrid[0:pattern_size[0], 0:pattern_size[1]].T.reshape(-1, 2)\n",
    "    objp *= square_size  # ?? ??? ?? ??\n",
    "\n",
    "    objpoints = []  # 3D ?? ???\n",
    "    imgpoints = []  # 2D ??? ???\n",
    "\n",
    "    images = glob.glob(f\"{images_folder}/*.jpg\")\n",
    "    img_shape = None\n",
    "\n",
    "    for fname in images:\n",
    "        img = cv2.imread(fname)\n",
    "        if img is None:\n",
    "            print(f\"???? ??? ? ????: {fname}\")\n",
    "            continue\n",
    "        gray = cv2.cvtColor(img, cv2.COLOR_BGR2GRAY)\n",
    "        if img_shape is None:\n",
    "            img_shape = gray.shape[::-1]\n",
    "\n",
    "        ret, corners = cv2.findChessboardCorners(gray, pattern_size, None)\n",
    "        if ret:\n",
    "            corners_refined = cv2.cornerSubPix(\n",
    "                gray, corners, (3, 3), (-1, -1),\n",
    "                (cv2.TERM_CRITERIA_EPS + cv2.TERM_CRITERIA_MAX_ITER, 30, 0.001)\n",
    "            )\n",
    "\n",
    "            # ??? ??? ??? OpenCV ????? ?? ??\n",
    "            objpoints.append(objp.reshape(-1, 1, 3).astype(np.float32))\n",
    "            imgpoints.append(corners_refined.reshape(-1, 1, 2).astype(np.float32))\n",
    "            print(f\"Corners detected in: {fname}\")\n",
    "        else:\n",
    "            print(f\"Failed to detect corners in: {fname}\")\n",
    "\n",
    "    # ??? ??? ??\n",
    "    if len(objpoints) != len(imgpoints) or len(objpoints) == 0:\n",
    "        raise ValueError(\"Invalid data for calibration. Check your input images.\")\n",
    "\n",
    "    print(f\"Number of object points: {len(objpoints)}\")\n",
    "    print(f\"Number of image points: {len(imgpoints)}\")\n",
    "\n",
    "    # ?? ???? ??? ???? ?? ? ??? ?? ?? (????)\n",
    "    print(f\"objpoints[0] shape: {objpoints[0].shape}, dtype: {objpoints[0].dtype}\")\n",
    "    print(f\"imgpoints[0] shape: {imgpoints[0].shape}, dtype: {imgpoints[0].dtype}\")\n",
    "\n",
    "    # ?????? ??\n",
    "    K = np.zeros((3, 3))\n",
    "    D = np.zeros((4, 1))\n",
    "    rvecs = []  # ?? ??\n",
    "    tvecs = []  # ?? ??\n",
    "\n",
    "    flags = (cv2.fisheye.CALIB_RECOMPUTE_EXTRINSIC +\n",
    "             cv2.fisheye.CALIB_FIX_SKEW)\n",
    "\n",
    "    try:\n",
    "        rms, K, D, rvecs, tvecs = cv2.fisheye.calibrate(\n",
    "            objpoints, imgpoints, img_shape, K, D, rvecs, tvecs, flags,\n",
    "            (cv2.TERM_CRITERIA_EPS + cv2.TERM_CRITERIA_MAX_ITER, 100, 1e-6)\n",
    "        )\n",
    "        print(f\"Calibration RMS error: {rms}\")\n",
    "        print(f\"Camera matrix (K):\\n{K}\")\n",
    "        print(f\"Distortion coefficients (D):\\n{D}\")\n",
    "    except cv2.error as e:\n",
    "        print(f\"Fisheye calibration failed: {e}\")\n",
    "        return None, None\n",
    "\n",
    "    return K, D\n",
    "\n",
    "# ?? ??\n",
    "K, D = fisheye_calibrate('./calibration_images/camera3', pattern_size=(8, 6), square_size=0.03)\n",
    "\n",
    "import pickle\n",
    "\n",
    "# ?????? ?? ?\n",
    "calibration_data = {\n",
    "    'K': K,\n",
    "    'D': D\n",
    "}\n",
    "\n",
    "with open('calibration_data_camera3.pkl', 'wb') as f:\n",
    "    pickle.dump(calibration_data, f)\n",
    "\n"
   ]
  },
  {
   "cell_type": "code",
   "execution_count": 19,
   "id": "370097b9-1f7d-4ec5-8939-a946355e3679",
   "metadata": {},
   "outputs": [],
   "source": [
    "\n",
    "import cv2\n",
    "import numpy as np\n",
    "import pickle\n",
    "\n",
    "def undistort_fisheye(img, K, D, balance=0.0, new_dim=None):\n",
    "    h, w = img.shape[:2]\n",
    "    DIM = (w, h)  # (width, height)\n",
    "\n",
    "    if new_dim is None:\n",
    "        new_dim = DIM\n",
    "\n",
    "    new_K = cv2.fisheye.estimateNewCameraMatrixForUndistortRectify(\n",
    "        K, D, DIM, np.eye(3), balance=balance, new_size=new_dim\n",
    "    )\n",
    "\n",
    "    map1, map2 = cv2.fisheye.initUndistortRectifyMap(\n",
    "        K, D, np.eye(3), new_K, new_dim, cv2.CV_16SC2\n",
    "    )\n",
    "\n",
    "    undistorted_img = cv2.remap(img, map1, map2, interpolation=cv2.INTER_LINEAR)\n",
    "\n",
    "    return undistorted_img\n",
    "\n",
    "# ?????? ?? ??\n",
    "with open('calibration_data_camera2.pkl', 'rb') as f:\n",
    "    calibration_data = pickle.load(f)\n",
    "    K = calibration_data['K']\n",
    "    D = calibration_data['D']\n",
    "\n",
    "# ?? ??? ??\n",
    "test_img = cv2.imread('./calibration_images/camera2/homography.jpg')\n",
    "\n",
    "if test_img is None:\n",
    "    print(\"???? ??? ? ????.\")\n",
    "else:\n",
    "    # ?? ?? ??\n",
    "    undistorted = undistort_fisheye(test_img, K, D, balance=0.0)\n",
    "\n",
    "    # ?? ??\n",
    "    cv2.imshow('Original Image', test_img)\n",
    "    cv2.imshow('Undistorted Image', undistorted)\n",
    "    cv2.waitKey(0)\n",
    "    cv2.destroyAllWindows()\n",
    "\n",
    "    # ?? ?? (??)\n",
    "    cv2.imwrite('./calibration_images/camera2/undistorted_homography.jpg', undistorted)\n",
    "\n"
   ]
  },
  {
   "cell_type": "code",
   "execution_count": 20,
   "id": "92326dc9-96cf-45a1-8ae3-6624fcf30495",
   "metadata": {},
   "outputs": [
    {
     "name": "stdout",
     "output_type": "stream",
     "text": [
      "Press 'c' to capture an image, 'q' to quit.\n"
     ]
    }
   ],
   "source": [
    "capture_images_without_corners(camera_index='/dev/video4', output_folder=\"./calibration_images/camera1\", max_images=30)"
   ]
  },
  {
   "cell_type": "code",
   "execution_count": 21,
   "id": "6d690257-bba9-468a-a2b1-1cbca16fba43",
   "metadata": {},
   "outputs": [
    {
     "name": "stdout",
     "output_type": "stream",
     "text": [
      "Press 'c' to capture an image, 'q' to quit.\n"
     ]
    }
   ],
   "source": [
    "capture_images_without_corners(camera_index='/dev/video8', output_folder=\"./calibration_images/camera2\", max_images=30)"
   ]
  },
  {
   "cell_type": "code",
   "execution_count": 22,
   "id": "ccc71b18-ddc4-4fbd-9154-b54b52d0c430",
   "metadata": {},
   "outputs": [
    {
     "name": "stdout",
     "output_type": "stream",
     "text": [
      "Press 'c' to capture an image, 'q' to quit.\n"
     ]
    }
   ],
   "source": [
    "capture_images_without_corners(camera_index='/dev/video25', output_folder=\"./calibration_images/camera3\", max_images=30)"
   ]
  },
  {
   "cell_type": "code",
   "execution_count": 23,
   "id": "53966bc2-87c3-4207-8bf1-11cd04501584",
   "metadata": {},
   "outputs": [
    {
     "name": "stdout",
     "output_type": "stream",
     "text": [
      "Press 'c' to capture an image, 'q' to quit.\n"
     ]
    }
   ],
   "source": [
    "capture_images_without_corners(camera_index='/dev/video0', output_folder=\"./calibration_images/camera0\", max_images=30)"
   ]
  },
  {
   "cell_type": "code",
   "execution_count": null,
   "id": "3c24c4a8-6dc6-4d2e-b4d9-402ac88acd60",
   "metadata": {},
   "outputs": [],
   "source": []
  }
 ],
 "metadata": {
  "kernelspec": {
   "display_name": "Python 3 (ipykernel)",
   "language": "python",
   "name": "python3"
  },
  "language_info": {
   "codemirror_mode": {
    "name": "ipython",
    "version": 3
   },
   "file_extension": ".py",
   "mimetype": "text/x-python",
   "name": "python",
   "nbconvert_exporter": "python",
   "pygments_lexer": "ipython3",
   "version": "3.11.2"
  }
 },
 "nbformat": 4,
 "nbformat_minor": 5
}
