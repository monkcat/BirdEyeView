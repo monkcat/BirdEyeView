{
 "cells": [
  {
   "cell_type": "code",
   "execution_count": 5,
   "metadata": {},
   "outputs": [],
   "source": [
    "import sys\n",
    "import cv2\n",
    "import matplotlib.pyplot as plt\n",
    "import time"
   ]
  },
  {
   "cell_type": "code",
   "execution_count": null,
   "metadata": {},
   "outputs": [
    {
     "name": "stderr",
     "output_type": "stream",
     "text": [
      "qt.qpa.plugin: Could not find the Qt platform plugin \"wayland\" in \"/home/pi/.local/lib/python3.11/site-packages/cv2/qt/plugins\"\n"
     ]
    },
    {
     "name": "stdout",
     "output_type": "stream",
     "text": [
      "All cameras released.\n"
     ]
    }
   ],
   "source": [
    "import cv2\n",
    "import time\n",
    "\n",
    "camera_ids = ['/dev/video0', '/dev/video4', '/dev/video8', '/dev/video25']\n",
    "\n",
    "caps = [cv2.VideoCapture(id) for id in camera_ids]\n",
    "\n",
    "for cap in caps:\n",
    "    cap.set(cv2.CAP_PROP_FRAME_WIDTH, 320)  # ?? ???\n",
    "    cap.set(cv2.CAP_PROP_FRAME_HEIGHT, 240) # ?? ???\n",
    "    cap.set(cv2.CAP_PROP_FPS, 30)           # FPS ??\n",
    "\n",
    "try:\n",
    "    while True:\n",
    "        frames = []\n",
    "\n",
    "        # ? ????? ??? ??\n",
    "        for idx, cap in enumerate(caps):\n",
    "            ret, frame = cap.read()\n",
    "            if not ret:\n",
    "                print(f\"Failed to grab frame from camera {idx}\")\n",
    "                continue\n",
    "\n",
    "            # ??? ??\n",
    "            cv2.imshow(f\"Camera {idx}\", frame)\n",
    "            frames.append(frame)\n",
    "\n",
    "        # 'q' ?? ??? ??\n",
    "        if cv2.waitKey(1) & 0xFF == ord('q'):\n",
    "            break\n",
    "\n",
    "finally:\n",
    "    for cap in caps:\n",
    "        cap.release()\n",
    "    cv2.destroyAllWindows()\n",
    "    print(\"All cameras released.\")\n"
   ]
  },
  {
   "cell_type": "code",
   "execution_count": null,
   "metadata": {},
   "outputs": [
    {
     "ename": "",
     "evalue": "",
     "output_type": "error",
     "traceback": [
      "\u001b[1;31mThe Kernel crashed while executing code in the current cell or a previous cell. \n",
      "\u001b[1;31mPlease review the code in the cell(s) to identify a possible cause of the failure. \n",
      "\u001b[1;31mClick <a href='https://aka.ms/vscodeJupyterKernelCrash'>here</a> for more info. \n",
      "\u001b[1;31mView Jupyter <a href='command:jupyter.viewOutput'>log</a> for further details."
     ]
    }
   ],
   "source": [
    "import cv2\n",
    "image = cv2.imread('bev_image3.jpg')\n",
    "cv2.imshow('bev_image3.jpg', image)"
   ]
  },
  {
   "cell_type": "code",
   "execution_count": null,
   "metadata": {},
   "outputs": [],
   "source": []
  }
 ],
 "metadata": {
  "kernelspec": {
   "display_name": "Python 3",
   "language": "python",
   "name": "python3"
  },
  "language_info": {
   "codemirror_mode": {
    "name": "ipython",
    "version": 3
   },
   "file_extension": ".py",
   "mimetype": "text/x-python",
   "name": "python",
   "nbconvert_exporter": "python",
   "pygments_lexer": "ipython3",
   "version": "3.11.2"
  }
 },
 "nbformat": 4,
 "nbformat_minor": 4
}
