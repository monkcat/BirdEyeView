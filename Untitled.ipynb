{
 "cells": [
  {
   "cell_type": "code",
   "execution_count": 1,
   "id": "9e44a44a-d103-4b20-b7d6-dcd6218247cf",
   "metadata": {},
   "outputs": [],
   "source": [
    "import cv2\n",
    "import numpy as np\n",
    "import pickle\n",
    "import cv2\n",
    "import threading\n",
    "import time"
   ]
  },
  {
   "cell_type": "code",
   "execution_count": 2,
   "id": "1dfa052c-446f-46dc-b547-3de0615d37ce",
   "metadata": {},
   "outputs": [],
   "source": [
    "\n",
    "\n",
    "def capture_frame(camera_index, results, lock):\n",
    "    \"\"\"\n",
    "    ????? ???? ???? ??\n",
    "    :param camera_index: ??? ??? ???\n",
    "    :param results: ??? ??? ????\n",
    "    :param lock: ??? ? ???? ?? Lock\n",
    "    \"\"\"\n",
    "    cap = cv2.VideoCapture(camera_index)\n",
    "    if not cap.isOpened():\n",
    "        print(f\"Cannot open camera {camera_index}\")\n",
    "        return\n",
    "\n",
    "    time.sleep(0.1) \n",
    "\n",
    "    ret, frame = cap.read()\n",
    "    if ret:\n",
    "        with lock:\n",
    "            results[camera_index] = frame\n",
    "    else:\n",
    "        print(f\"Failed to grab frame from camera {camera_index}\")\n",
    "    cap.release()\n",
    "\n",
    "def capture_images_simultaneously():\n",
    "    \"\"\"\n",
    "    ?? ????? ??? ???? ???? ??\n",
    "    :param camera_indices: ??? ??? ??? ???\n",
    "    :return: ??? ??? ???\n",
    "    \"\"\"\n",
    "    camera_indices = ['/dev/video0', '/dev/video4', '/dev/video8', '/dev/video25']\n",
    "    threads = []\n",
    "    results = {}\n",
    "    lock = threading.Lock()\n",
    "\n",
    "    # ? ???? ?? ????? ??\n",
    "    for idx in camera_indices:\n",
    "        thread = threading.Thread(target=capture_frame, args=(idx, results, lock))\n",
    "    \n",
    "        threads.append(thread)\n",
    "        thread.start()\n",
    "\n",
    "    # ?? ???? ??? ??? ??? ??\n",
    "    for thread in threads:\n",
    "        thread.join()\n",
    "\n",
    "    # ??? ??? ??? ???? ???? ??\n",
    "    return [results[idx] for idx in camera_indices if idx in results]\n",
    "\n",
    "# ?? ??\n",
    "#camera_indices = ['/dev/video0', '/dev/video4', '/dev/video8', '/dev/video25']  # ??? ??? (?: /dev/video0, /dev/video1 ...)\n",
    "#images = capture_images_simultaneously(camera_indices)\n",
    "\n",
    "\n"
   ]
  },
  {
   "cell_type": "code",
   "execution_count": 3,
   "id": "d4190a20-f1ce-4f8c-8173-8cfe7e4498b6",
   "metadata": {},
   "outputs": [],
   "source": [
    "def load_calibration_data(camera_indices):\n",
    "    calibration_data = {}\n",
    "    for idx in camera_indices:\n",
    "        with open(f'calibration_data_camera{idx}.pkl', 'rb') as f:\n",
    "            data = pickle.load(f)\n",
    "            calibration_data[idx] = {\n",
    "                'K': data['K'],\n",
    "                'D': data['D'],\n",
    "            }\n",
    "    return calibration_data"
   ]
  },
  {
   "cell_type": "code",
   "execution_count": 4,
   "id": "8c5fc6b6-bcb9-4e6a-8e8d-cec6d74db36d",
   "metadata": {},
   "outputs": [],
   "source": [
    "camera_indices = [0, 1, 2, 3]\n",
    "calibration_data = load_calibration_data(camera_indices)"
   ]
  },
  {
   "cell_type": "code",
   "execution_count": 5,
   "id": "0ecb66be-2f6a-4acb-9504-b98c20b4cf34",
   "metadata": {},
   "outputs": [],
   "source": [
    "def undistort_images(images, calibration_data):\n",
    "    undistorted_images = []\n",
    "    for idx, img in enumerate(images):\n",
    "        data = calibration_data[idx]\n",
    "        K = data['K']\n",
    "        D = data['D']\n",
    "        h, w = img.shape[:2]\n",
    "\n",
    "        # ??? ??? ?? ??\n",
    "        new_K = cv2.fisheye.estimateNewCameraMatrixForUndistortRectify(\n",
    "            K, D, (w, h), np.eye(3), balance=0.0\n",
    "        )\n",
    "\n",
    "        # ?? ?? ? ??\n",
    "        map1, map2 = cv2.fisheye.initUndistortRectifyMap(\n",
    "            K, D, np.eye(3), new_K, (w, h), cv2.CV_16SC2\n",
    "        )\n",
    "\n",
    "        # remap ??? ?? ?? ??\n",
    "        undistorted_img = cv2.remap(img, map1, map2, interpolation=cv2.INTER_LINEAR)\n",
    "        undistorted_images.append(undistorted_img)\n",
    "    return undistorted_images\n"
   ]
  },
  {
   "cell_type": "code",
   "execution_count": 6,
   "id": "a14d3475-14fa-4f81-a26c-eb294607b17b",
   "metadata": {},
   "outputs": [],
   "source": [
    "\n",
    "import cv2\n",
    "import numpy as np\n",
    "import glob\n",
    "import pickle\n",
    "\n",
    "def calculate_homography(camera_index, pattern_size, square_size, calibration_data):\n",
    "    # 1. ??? ??\n",
    "    image_path = f'calibration_images/camera{camera_index}/undistorted_homography.jpg'\n",
    "    img = cv2.imread(image_path)\n",
    "    if img is None:\n",
    "        print(f\"Cannot load image: {image_path}\")\n",
    "        return None\n",
    "\n",
    "    # 2. ?????\n",
    "    K = calibration_data['K']\n",
    "    D = calibration_data['D']\n",
    "    h, w = img.shape[:2]\n",
    "    new_K = cv2.fisheye.estimateNewCameraMatrixForUndistortRectify(\n",
    "        K, D, (w, h), np.eye(3), balance=0.5  # balance ??\n",
    "    )\n",
    "    map1, map2 = cv2.fisheye.initUndistortRectifyMap(\n",
    "        K, D, np.eye(3), new_K, (w, h), cv2.CV_16SC2\n",
    "    )\n",
    "    undistorted_img = cv2.remap(img, map1, map2, interpolation=cv2.INTER_LINEAR)\n",
    "\n",
    "    # 3. ???? ?? ??\n",
    "    gray = cv2.cvtColor(undistorted_img, cv2.COLOR_BGR2GRAY)\n",
    "    ret, corners = cv2.findChessboardCorners(gray, pattern_size, None)\n",
    "    if not ret:\n",
    "        print(f\"Cannot find chessboard corners: {image_path}\")\n",
    "        return None\n",
    "\n",
    "    # 4. ?? ??\n",
    "    criteria = (cv2.TERM_CRITERIA_EPS + cv2.TERM_CRITERIA_MAX_ITER, 30, 0.001)\n",
    "    corners_refined = cv2.cornerSubPix(gray, corners, (11, 11), (-1, -1), criteria)\n",
    "\n",
    "    # 5. ?? ??? ??\n",
    "    objp = np.zeros((pattern_size[0] * pattern_size[1], 3), np.float32)\n",
    "    objp[:, :2] = np.mgrid[0:pattern_size[0], 0:pattern_size[1]].T.reshape(-1, 2)\n",
    "    objp *= square_size  # ?? ?? ??\n",
    "\n",
    "    image_points = corners_refined.reshape(-1, 2)\n",
    "    world_points = objp[:, :2]\n",
    "\n",
    "    # 6. ????? ?? (?? -> ???)\n",
    "    H, status = cv2.findHomography(world_points, image_points, cv2.RANSAC)\n",
    "\n",
    "    if H is not None:\n",
    "        # 7. ??? ?? ??\n",
    "        transformed_points = cv2.perspectiveTransform(world_points.reshape(-1, 1, 2), H).reshape(-1, 2)\n",
    "        errors = np.linalg.norm(image_points - transformed_points, axis=1)\n",
    "        mean_error = np.mean(errors)\n",
    "        print(f\"Mean Reprojection Error for camera {camera_index}: {mean_error:.4f} pixels\")\n",
    "    else:\n",
    "        print(f\"Homography computation failed for camera {camera_index}\")\n",
    "        return None\n",
    "\n",
    "    # 8. ????? ???? ??\n",
    "    np.save(f'homography_camera{camera_index}.npy', H)\n",
    "    print(f\"Completed: homography_camera{camera_index}.npy\")\n",
    "\n",
    "    return H\n"
   ]
  },
  {
   "cell_type": "code",
   "execution_count": 7,
   "id": "b53d9c91-ead7-4fa9-ae4e-d55cbec78561",
   "metadata": {},
   "outputs": [
    {
     "name": "stdout",
     "output_type": "stream",
     "text": [
      "Mean Reprojection Error for camera 0: 0.7606 pixels\n",
      "Completed: homography_camera0.npy\n",
      "Mean Reprojection Error for camera 1: 0.6554 pixels\n",
      "Completed: homography_camera1.npy\n",
      "Mean Reprojection Error for camera 2: 1.4066 pixels\n",
      "Completed: homography_camera2.npy\n",
      "Mean Reprojection Error for camera 3: 0.9874 pixels\n",
      "Completed: homography_camera3.npy\n"
     ]
    }
   ],
   "source": [
    "# ??? ??? ? ?? ??\n",
    "camera_indices = [0, 1, 2, 3]\n",
    "pattern_size = (6, 3)  # ?? ?? ? (columns, rows)\n",
    "square_size = 0.03      # ??: ?? (?: 3cm)\n",
    "\n",
    "# ?????? ??? ??\n",
    "calibration_data = {}\n",
    "for idx in camera_indices:\n",
    "    try:\n",
    "        with open(f'calibration_data_camera{idx}.pkl', 'rb') as f:\n",
    "            data = pickle.load(f)\n",
    "            calibration_data[idx] = data\n",
    "    except FileNotFoundError:\n",
    "        print(f\"Calibration data not found for camera {idx}\")\n",
    "        calibration_data[idx] = None\n",
    "\n",
    "# ????? ???? ??\n",
    "homography_matrices = {}\n",
    "for idx in camera_indices:\n",
    "    if calibration_data.get(idx) is not None:\n",
    "        H = calculate_homography(idx, pattern_size, square_size, calibration_data[idx])\n",
    "        if H is not None:\n",
    "            homography_matrices[idx] = H\n",
    "        else:\n",
    "            print(f\"Camera {idx} cannot calculate homography matrix\")\n",
    "    else:\n",
    "        print(f\"Calibration data missing for camera {idx}, skipping homography calculation\")"
   ]
  },
  {
   "cell_type": "code",
   "execution_count": 8,
   "id": "6d23d022-126f-4e5d-b4e7-00c065cbd39d",
   "metadata": {},
   "outputs": [
    {
     "data": {
      "text/plain": [
       "{0: array([[-6.80925951e+02, -1.40328012e+03,  3.06181568e+02],\n",
       "        [ 1.59651970e+02,  7.12533063e+01,  1.76826240e+02],\n",
       "        [-2.69466850e+00, -3.24729418e-01,  1.00000000e+00]]),\n",
       " 1: array([[ 9.31356601e+02,  1.92736408e+03,  2.74615559e+02],\n",
       "        [-2.67211317e+02, -1.17957727e+01,  2.79513449e+02],\n",
       "        [ 3.68966448e+00,  1.82346806e-01,  1.00000000e+00]]),\n",
       " 2: array([[ 2.00274402e+03,  1.98607391e+03,  2.84280818e+02],\n",
       "        [ 8.49746490e+02, -4.05385860e+02,  3.54368928e+02],\n",
       "        [ 6.16888562e+00, -1.26085057e+00,  1.00000000e+00]]),\n",
       " 3: array([[1.91987533e+03, 3.15137757e+03, 2.04588199e+02],\n",
       "        [2.86449705e+02, 3.73713344e+02, 3.13686327e+02],\n",
       "        [6.40780670e+00, 9.52187999e-01, 1.00000000e+00]])}"
      ]
     },
     "execution_count": 8,
     "metadata": {},
     "output_type": "execute_result"
    }
   ],
   "source": [
    "homography_matrices"
   ]
  },
  {
   "cell_type": "code",
   "execution_count": 9,
   "id": "bb5c9e3a-3cc3-468e-9d4a-1529ef0e9d3c",
   "metadata": {},
   "outputs": [
    {
     "name": "stdout",
     "output_type": "stream",
     "text": [
      "Mean Reprojection Error for camera 0: 0.7606 pixels\n",
      "Completed: homography_camera0.npy\n",
      "Mean Reprojection Error for camera 1: 0.6554 pixels\n",
      "Completed: homography_camera1.npy\n",
      "Mean Reprojection Error for camera 2: 1.4066 pixels\n",
      "Completed: homography_camera2.npy\n",
      "Mean Reprojection Error for camera 3: 0.9874 pixels\n",
      "Completed: homography_camera3.npy\n"
     ]
    }
   ],
   "source": [
    "camera_indices = [0, 1, 2, 3]\n",
    "pattern_size = (6, 3)  \n",
    "square_size = 0.03     \n",
    "\n",
    "calibration_data = {}\n",
    "for idx in camera_indices:\n",
    "    with open(f'calibration_data_camera{idx}.pkl', 'rb') as f:\n",
    "        data = pickle.load(f)\n",
    "        calibration_data[idx] = data\n",
    "\n",
    "# ? ???? ?? ????? ??\n",
    "homography_matrices = {}\n",
    "for idx in camera_indices:\n",
    "    H = calculate_homography(idx, pattern_size, square_size, calibration_data[idx])\n",
    "    if H is not None:\n",
    "        homography_matrices[idx] = H\n",
    "    else:\n",
    "        print(f\"camera {idx} can not calculate homograpy matrix\")"
   ]
  },
  {
   "cell_type": "code",
   "execution_count": 10,
   "id": "e1c827ce-bb52-4073-88a7-fa74e1f34537",
   "metadata": {},
   "outputs": [
    {
     "data": {
      "text/plain": [
       "{0: array([[-6.80925951e+02, -1.40328012e+03,  3.06181568e+02],\n",
       "        [ 1.59651970e+02,  7.12533063e+01,  1.76826240e+02],\n",
       "        [-2.69466850e+00, -3.24729418e-01,  1.00000000e+00]]),\n",
       " 1: array([[ 9.31356601e+02,  1.92736408e+03,  2.74615559e+02],\n",
       "        [-2.67211317e+02, -1.17957727e+01,  2.79513449e+02],\n",
       "        [ 3.68966448e+00,  1.82346806e-01,  1.00000000e+00]]),\n",
       " 2: array([[ 2.00274402e+03,  1.98607391e+03,  2.84280818e+02],\n",
       "        [ 8.49746490e+02, -4.05385860e+02,  3.54368928e+02],\n",
       "        [ 6.16888562e+00, -1.26085057e+00,  1.00000000e+00]]),\n",
       " 3: array([[1.91987533e+03, 3.15137757e+03, 2.04588199e+02],\n",
       "        [2.86449705e+02, 3.73713344e+02, 3.13686327e+02],\n",
       "        [6.40780670e+00, 9.52187999e-01, 1.00000000e+00]])}"
      ]
     },
     "execution_count": 10,
     "metadata": {},
     "output_type": "execute_result"
    }
   ],
   "source": [
    "homography_matrices"
   ]
  },
  {
   "cell_type": "code",
   "execution_count": 11,
   "id": "55a3eb7f-6ecd-4a14-be79-c5f4c8484d50",
   "metadata": {},
   "outputs": [],
   "source": [
    "def load_homography_matrices(camera_indices):\n",
    "    homography_matrices = {}\n",
    "    for idx in camera_indices:\n",
    "        H = np.load(f'homography_camera{idx}.npy')\n",
    "        homography_matrices[idx] = H\n",
    "    return homography_matrices"
   ]
  },
  {
   "cell_type": "code",
   "execution_count": 12,
   "id": "e8fd9ce0-2e6f-414b-996e-bfbbf1c6f5d7",
   "metadata": {},
   "outputs": [],
   "source": [
    "def warp_images(images, homography_matrices, output_size):\n",
    "    warped_images = []\n",
    "    for idx, img in enumerate(images):\n",
    "        H = homography_matrices[idx]\n",
    "        warped_img = cv2.warpPerspective(img, H, output_size)\n",
    "        warped_images.append(warped_img)\n",
    "    return warped_images"
   ]
  },
  {
   "cell_type": "code",
   "execution_count": 13,
   "id": "9709d4d9-ef87-4599-873c-9f7654f41f9d",
   "metadata": {},
   "outputs": [],
   "source": [
    "def stitch_images(warped_images):\n",
    "    output_size = warped_images[0].shape[:2][::-1]\n",
    "    stitched_image = np.zeros((output_size[1], output_size[0], 3), dtype=np.uint8)\n",
    "\n",
    "    for img in warped_images:\n",
    "        gray = cv2.cvtColor(img, cv2.COLOR_BGR2GRAY)\n",
    "        _, mask = cv2.threshold(gray, 1, 255, cv2.THRESH_BINARY)\n",
    "\n",
    "        stitched_image = cv2.bitwise_or(stitched_image, img, mask=mask)\n",
    "\n",
    "    return stitched_image\n"
   ]
  },
  {
   "cell_type": "code",
   "execution_count": 14,
   "id": "195afe97-eb55-422d-bf26-0e7d8b4b8cdd",
   "metadata": {},
   "outputs": [],
   "source": [
    "import numpy as np\n",
    "import cv2\n",
    "\n",
    "def undistort_images(images, calibration_data):\n",
    "    \n",
    "    undistorted_images = []\n",
    "    for idx, img in enumerate(images):\n",
    "        # ?????? ??? ????\n",
    "        data = calibration_data.get(idx)\n",
    "        if data is None:\n",
    "            print(f\"no calibration data: camera {idx}\")\n",
    "            undistorted_images.append(img)  # ???? ?? ?? ??\n",
    "            continue\n",
    "\n",
    "        K = data['K']\n",
    "        D = data['D']\n",
    "\n",
    "        h, w = img.shape[:2]\n",
    "        \n",
    "        # ??? ??? ?? ?? (??? ??? ??)\n",
    "        new_K = cv2.fisheye.estimateNewCameraMatrixForUndistortRectify(\n",
    "            K, D, (w, h), np.eye(3), balance=0.0\n",
    "        )\n",
    "\n",
    "        # ?? ??? ?? ? ??\n",
    "        map1, map2 = cv2.fisheye.initUndistortRectifyMap(\n",
    "            K, D, np.eye(3), new_K, (w, h), cv2.CV_16SC2\n",
    "        )\n",
    "\n",
    "        # ?? ?? ??\n",
    "        undistorted_img = cv2.remap(img, map1, map2, interpolation=cv2.INTER_LINEAR)\n",
    "        undistorted_images.append(undistorted_img)\n",
    "\n",
    "        print(f\"camera{idx} undistorted completely \")\n",
    "    return undistorted_images\n"
   ]
  },
  {
   "cell_type": "code",
   "execution_count": 15,
   "id": "05dc0c82-93c9-4fac-8e78-b0a898add754",
   "metadata": {},
   "outputs": [],
   "source": [
    "def create_birds_eye_view():\n",
    "    camera_indices = [0, 1, 2, 3]\n",
    "\n",
    "    # 1. \n",
    "    images = capture_images_simultaneously()\n",
    "    if images is None:\n",
    "        print(\"can not capture image.\")\n",
    "        return None\n",
    "    if images:\n",
    "        for i, img in enumerate(images):      \n",
    "            cv2.imshow(f\"Camera {camera_indices[i]}\", img)\n",
    "        cv2.imwrite(f\"camera_{i}.jpg\", img)  \n",
    "        cv2.waitKey(0)\n",
    "        cv2.destroyAllWindows()\n",
    "\n",
    "    # 2. \n",
    "    calibration_data = {}\n",
    "    for idx in camera_indices:\n",
    "        with open(f'calibration_data_camera{idx}.pkl', 'rb') as f:\n",
    "            data = pickle.load(f)\n",
    "            calibration_data[idx] = data\n",
    "\n",
    "    # 3. \n",
    "    undistorted_images = undistort_images(images, calibration_data)\n",
    "\n",
    "    # 4. \n",
    "    homography_matrices = load_homography_matrices(camera_indices)\n",
    "\n",
    "    # 5. \n",
    "    output_size = (1000, 1000)  \n",
    "    warped_images = warp_images(undistorted_images, homography_matrices, output_size)\n",
    "\n",
    "    # 6. \n",
    "    bird_eye_view = stitch_images(warped_images)\n",
    "\n",
    "    return bird_eye_view"
   ]
  },
  {
   "cell_type": "code",
   "execution_count": 16,
   "id": "a21fc5a0-ebc5-4326-99bd-77223114885e",
   "metadata": {},
   "outputs": [
    {
     "name": "stderr",
     "output_type": "stream",
     "text": [
      "qt.qpa.plugin: Could not find the Qt platform plugin \"wayland\" in \"/home/pi/.local/lib/python3.11/site-packages/cv2/qt/plugins\"\n"
     ]
    },
    {
     "name": "stdout",
     "output_type": "stream",
     "text": [
      "camera0 undistorted completely \n",
      "camera1 undistorted completely \n",
      "camera2 undistorted completely \n",
      "camera3 undistorted completely \n"
     ]
    }
   ],
   "source": [
    "if __name__ == '__main__':\n",
    "    bird_eye_view_image = create_birds_eye_view()\n",
    "    if bird_eye_view_image is not None:\n",
    "        cv2.imshow('Bird Eye View', bird_eye_view_image)\n",
    "        cv2.waitKey(0)\n",
    "        cv2.destroyAllWindows()\n",
    "        cv2.imwrite('bird_eye_view.jpg', bird_eye_view_image)\n",
    "    else:\n",
    "        print(\"bird's eye view can not generate.\")"
   ]
  },
  {
   "cell_type": "code",
   "execution_count": 17,
   "id": "e61b8069-cd48-48fd-80ba-bd814f7a8bde",
   "metadata": {},
   "outputs": [
    {
     "ename": "NameError",
     "evalue": "name 'images' is not defined",
     "output_type": "error",
     "traceback": [
      "\u001b[0;31m---------------------------------------------------------------------------\u001b[0m",
      "\u001b[0;31mNameError\u001b[0m                                 Traceback (most recent call last)",
      "Cell \u001b[0;32mIn[17], line 3\u001b[0m\n\u001b[1;32m      1\u001b[0m \u001b[38;5;66;03m# ?? ?? ? ?? ??\u001b[39;00m\n\u001b[1;32m      2\u001b[0m undistorted_images \u001b[38;5;241m=\u001b[39m []\n\u001b[0;32m----> 3\u001b[0m \u001b[38;5;28;01mfor\u001b[39;00m idx, img \u001b[38;5;129;01min\u001b[39;00m \u001b[38;5;28menumerate\u001b[39m(\u001b[43mimages\u001b[49m):\n\u001b[1;32m      4\u001b[0m     data \u001b[38;5;241m=\u001b[39m calibration_data\u001b[38;5;241m.\u001b[39mget(idx)\n\u001b[1;32m      5\u001b[0m     \u001b[38;5;28;01mif\u001b[39;00m data \u001b[38;5;129;01mis\u001b[39;00m \u001b[38;5;28;01mNone\u001b[39;00m:\n",
      "\u001b[0;31mNameError\u001b[0m: name 'images' is not defined"
     ]
    }
   ],
   "source": [
    "# ?? ?? ? ?? ??\n",
    "undistorted_images = []\n",
    "for idx, img in enumerate(images):\n",
    "    data = calibration_data.get(idx)\n",
    "    if data is None:\n",
    "        print(f\"camera{idx} no calibration data.\")\n",
    "        continue\n",
    "    K = data['K']\n",
    "    D = data['D']\n",
    "    h, w = img.shape[:2]\n",
    "    new_K = cv2.fisheye.estimateNewCameraMatrixForUndistortRectify(\n",
    "        K, D, (w, h), np.eye(3), balance=0.0\n",
    "    )\n",
    "    map1, map2 = cv2.fisheye.initUndistortRectifyMap(\n",
    "        K, D, np.eye(3), new_K, (w, h), cv2.CV_16SC2\n",
    "    )\n",
    "    undistorted_img = cv2.remap(img, map1, map2, interpolation=cv2.INTER_LINEAR)\n",
    "    undistorted_images.append(undistorted_img)\n",
    "    # ?? ??? ??? ??\n",
    "    cv2.imshow(f'Undistorted Image {idx}', undistorted_img)\n",
    "    cv2.waitKey(0)\n",
    "    cv2.destroyAllWindows()\n"
   ]
  },
  {
   "cell_type": "code",
   "execution_count": null,
   "id": "1d50df8a-69b5-4219-8917-f8a60e0b349d",
   "metadata": {},
   "outputs": [],
   "source": []
  }
 ],
 "metadata": {
  "kernelspec": {
   "display_name": "Python 3 (ipykernel)",
   "language": "python",
   "name": "python3"
  },
  "language_info": {
   "codemirror_mode": {
    "name": "ipython",
    "version": 3
   },
   "file_extension": ".py",
   "mimetype": "text/x-python",
   "name": "python",
   "nbconvert_exporter": "python",
   "pygments_lexer": "ipython3",
   "version": "3.11.2"
  }
 },
 "nbformat": 4,
 "nbformat_minor": 5
}
